{
 "cells": [
  {
   "cell_type": "markdown",
   "id": "d49d669c-f2be-4987-a0f7-cb890859e7a3",
   "metadata": {},
   "source": [
    "RIEMPIRE SERBATOIO\n",
    "1.\tPRENDERE LA MACCHINA\n",
    "2.\tANDARE ALLA STAZIONE PIU VICINA\n",
    "3.\tFERMARSI\n",
    "4.\tSCENDERE DALLA MACCHINA\n",
    "5.\tAPRIRE SPORTELLO SERBATOIO\n",
    "6.\tMETTERE SOLDI PER BENZINA\n",
    "7.\tPRENDERE LA POMPA\n",
    "8.\tMETTERE BENZINA\n",
    "9.\tATTENDERE\n",
    "10.\tSE IL SERBATOIO NON E' ANCORA PIENO TORNARE AL NUMERO 9\n",
    "11.\tRIMMETTERE A POSTO LA POMPA\n",
    "12.\tCHIUDERE SPORTELLO\n",
    "13.\tSALIRE IN AUTO\n",
    "14.\tRIPARTIRE"
   ]
  },
  {
   "cell_type": "code",
   "execution_count": 4,
   "id": "0676652f-b026-4e2b-a612-0de911a7c79e",
   "metadata": {},
   "outputs": [],
   "source": [
    "Studenti = 25"
   ]
  },
  {
   "cell_type": "code",
   "execution_count": 2,
   "id": "eeb69541-3bb6-4157-9d5a-ff38d38f03df",
   "metadata": {},
   "outputs": [
    {
     "name": "stdout",
     "output_type": "stream",
     "text": [
      "25\n"
     ]
    }
   ],
   "source": [
    "print(Studenti)"
   ]
  },
  {
   "cell_type": "code",
   "execution_count": 6,
   "id": "dd7d9c9a-e16f-4ced-bdaa-bcc44cb4fcb5",
   "metadata": {},
   "outputs": [],
   "source": [
    "Nuovi_Studenti = 3"
   ]
  },
  {
   "cell_type": "code",
   "execution_count": 7,
   "id": "855454eb-cddb-4709-8446-73a860fd5e5b",
   "metadata": {},
   "outputs": [],
   "source": [
    "Studenti_Totali = Studenti + Nuovi_Studenti"
   ]
  },
  {
   "cell_type": "code",
   "execution_count": 8,
   "id": "3f0b4475-02fa-4f58-aa16-75314be1b994",
   "metadata": {},
   "outputs": [
    {
     "name": "stdout",
     "output_type": "stream",
     "text": [
      "28\n"
     ]
    }
   ],
   "source": [
    "print(Studenti_Totali)"
   ]
  },
  {
   "cell_type": "code",
   "execution_count": 9,
   "id": "9f34a90f-57e7-47d9-92c5-2bebd1d50470",
   "metadata": {},
   "outputs": [],
   "source": [
    "Nome = \"Epicode\""
   ]
  },
  {
   "cell_type": "code",
   "execution_count": 10,
   "id": "fb414b6d-74d6-4bc5-8864-68279310add1",
   "metadata": {},
   "outputs": [
    {
     "name": "stdout",
     "output_type": "stream",
     "text": [
      "Epicode\n"
     ]
    }
   ],
   "source": [
    "print(Nome)"
   ]
  },
  {
   "cell_type": "code",
   "execution_count": 25,
   "id": "fdc2e167-1fdc-4ecc-a317-42087f605ae9",
   "metadata": {},
   "outputs": [
    {
     "name": "stdout",
     "output_type": "stream",
     "text": [
      "36\n"
     ]
    }
   ],
   "source": [
    "x = 10\n",
    "y = (x + 2) * 3\n",
    "print(y)"
   ]
  },
  {
   "cell_type": "code",
   "execution_count": 26,
   "id": "29f46850-583a-4601-b0dc-a81f9e14f777",
   "metadata": {},
   "outputs": [
    {
     "name": "stdout",
     "output_type": "stream",
     "text": [
      "36\n"
     ]
    }
   ],
   "source": [
    "print((x+2) * 3)"
   ]
  },
  {
   "cell_type": "code",
   "execution_count": 16,
   "id": "eaf2d5c2-5bee-434c-992c-fdc32d71666a",
   "metadata": {},
   "outputs": [],
   "source": [
    "str1 = \"Windows\"\n",
    "str2 = \"Excel\"\n",
    "str3 = \"Powerpoint\"\n",
    "str4 = \"Word\""
   ]
  },
  {
   "cell_type": "code",
   "execution_count": 28,
   "id": "fbd4627b-a0e1-4331-8b1f-05b99439133e",
   "metadata": {},
   "outputs": [
    {
     "name": "stdout",
     "output_type": "stream",
     "text": [
      "compreso\n"
     ]
    }
   ],
   "source": [
    "if len(str1) >= 5 and len(str1) <= 8:\n",
    "    print(\"compreso\")\n",
    "else:\n",
    "    print(\"non compreso\")"
   ]
  },
  {
   "cell_type": "code",
   "execution_count": 29,
   "id": "4928a146-fca0-4f4a-928a-0502878d011c",
   "metadata": {},
   "outputs": [
    {
     "name": "stdout",
     "output_type": "stream",
     "text": [
      "compreso\n"
     ]
    }
   ],
   "source": [
    "if len(str2) >= 5 and len(str2) <= 8:\n",
    "    print(\"compreso\")\n",
    "else:\n",
    "    print(\"non compreso\")"
   ]
  },
  {
   "cell_type": "code",
   "execution_count": 30,
   "id": "2077be6c-f83a-465e-8b54-5df5b8637c5d",
   "metadata": {},
   "outputs": [
    {
     "name": "stdout",
     "output_type": "stream",
     "text": [
      "non compreso\n"
     ]
    }
   ],
   "source": [
    "if len(str3) >= 5 and len(str3) <= 8:\n",
    "    print(\"compreso\")\n",
    "else:\n",
    "    print(\"non compreso\")"
   ]
  },
  {
   "cell_type": "code",
   "execution_count": 31,
   "id": "c0961271-0afd-4921-9b39-40fcf65329d7",
   "metadata": {},
   "outputs": [
    {
     "name": "stdout",
     "output_type": "stream",
     "text": [
      "non compreso\n"
     ]
    }
   ],
   "source": [
    "if len(str4) >= 5 and len(str4) <= 8:\n",
    "    print(\"compreso\")\n",
    "else:\n",
    "    print(\"non compreso\")"
   ]
  },
  {
   "cell_type": "code",
   "execution_count": 38,
   "id": "1fc420a0-9897-4e49-9a9a-ea5d7e8484ea",
   "metadata": {},
   "outputs": [
    {
     "name": "stdout",
     "output_type": "stream",
     "text": [
      "Windows è compreso\n",
      "Excel non è compreso\n",
      "Powerpoint non è compreso\n",
      "Word non è compreso\n"
     ]
    }
   ],
   "source": [
    "str1 = \"Windows\" \n",
    "str2 = \"Excel\" \n",
    "str3 = \"Powerpoint\" \n",
    "str4 = \"Word\"\n",
    "\n",
    "lista=[str1,str2,str3,str4]\n",
    "for stringa in lista:\n",
    "    if 5<len(stringa)<8:\n",
    "        print(stringa + \" è compreso\")\n",
    "    else:\n",
    "        print(stringa + \" non è compreso\")"
   ]
  },
  {
   "cell_type": "code",
   "execution_count": 32,
   "id": "efaf5632-e5e9-4ba8-aa5c-dfb37a39e110",
   "metadata": {},
   "outputs": [
    {
     "name": "stdout",
     "output_type": "stream",
     "text": [
      "i secondi in un anno non bisestile sono:  31536000\n"
     ]
    }
   ],
   "source": [
    "secondi=60*60*24*365\n",
    "print(\"i secondi in un anno non bisestile sono: \", secondi)"
   ]
  },
  {
   "cell_type": "code",
   "execution_count": 33,
   "id": "82fae029-10f6-4089-95bc-4a9325986579",
   "metadata": {},
   "outputs": [],
   "source": [
    "my_string = \"I am studying Python\""
   ]
  },
  {
   "cell_type": "code",
   "execution_count": 34,
   "id": "150cf408-a510-441b-9d48-8a4d886fdbc9",
   "metadata": {},
   "outputs": [
    {
     "data": {
      "text/plain": [
       "'I AM STUDYING PYTHON'"
      ]
     },
     "execution_count": 34,
     "metadata": {},
     "output_type": "execute_result"
    }
   ],
   "source": [
    "my_string.upper()"
   ]
  },
  {
   "cell_type": "code",
   "execution_count": 35,
   "id": "67dca675-0aec-4990-85ab-00c41127fe54",
   "metadata": {},
   "outputs": [
    {
     "data": {
      "text/plain": [
       "'i am studying python'"
      ]
     },
     "execution_count": 35,
     "metadata": {},
     "output_type": "execute_result"
    }
   ],
   "source": [
    "my_string.lower()"
   ]
  },
  {
   "cell_type": "code",
   "execution_count": 36,
   "id": "ec7a6bdf-d560-4002-b8f9-f79e8b9e2f46",
   "metadata": {},
   "outputs": [
    {
     "data": {
      "text/plain": [
       "'I am studying a lot'"
      ]
     },
     "execution_count": 36,
     "metadata": {},
     "output_type": "execute_result"
    }
   ],
   "source": [
    "my_string.replace(\"Python\", \"a lot\")"
   ]
  },
  {
   "cell_type": "code",
   "execution_count": 37,
   "id": "691e4ecc-a2bf-4aa9-9e0f-b02a4075ecbf",
   "metadata": {},
   "outputs": [
    {
     "data": {
      "text/plain": [
       "'I am studying Python'"
      ]
     },
     "execution_count": 37,
     "metadata": {},
     "output_type": "execute_result"
    }
   ],
   "source": [
    "my_string.strip()"
   ]
  }
 ],
 "metadata": {
  "kernelspec": {
   "display_name": "Python 3 (ipykernel)",
   "language": "python",
   "name": "python3"
  },
  "language_info": {
   "codemirror_mode": {
    "name": "ipython",
    "version": 3
   },
   "file_extension": ".py",
   "mimetype": "text/x-python",
   "name": "python",
   "nbconvert_exporter": "python",
   "pygments_lexer": "ipython3",
   "version": "3.11.7"
  }
 },
 "nbformat": 4,
 "nbformat_minor": 5
}
