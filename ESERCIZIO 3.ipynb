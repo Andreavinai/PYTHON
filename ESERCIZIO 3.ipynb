{
 "cells": [
  {
   "cell_type": "code",
   "execution_count": 97,
   "id": "9e5daf3e-cde0-4568-8be2-e35f0c3df761",
   "metadata": {
    "tags": []
   },
   "outputs": [],
   "source": [
    "import numpy as np\n",
    "import pandas as pd\n",
    "import math as mt"
   ]
  },
  {
   "cell_type": "code",
   "execution_count": 99,
   "id": "d731971d-e708-44f6-bf71-a4c3863d1f43",
   "metadata": {
    "tags": []
   },
   "outputs": [],
   "source": [
    "mat = [[0, 1, 2, 3, 4], [5, 6, 7, 8, 9], [10, 11, 12, 13, 14]]"
   ]
  },
  {
   "cell_type": "code",
   "execution_count": 101,
   "id": "4b8563ef-a68a-45cb-a3f4-e161f123e566",
   "metadata": {
    "tags": []
   },
   "outputs": [],
   "source": [
    "mat_array = np.array(mat)"
   ]
  },
  {
   "cell_type": "code",
   "execution_count": 103,
   "id": "b8cbac23-90f0-4bfa-8414-3b7e309a36d3",
   "metadata": {
    "tags": []
   },
   "outputs": [
    {
     "data": {
      "text/plain": [
       "array([[ 0,  1,  2,  3,  4],\n",
       "       [ 5,  6,  7,  8,  9],\n",
       "       [10, 11, 12, 13, 14]])"
      ]
     },
     "execution_count": 103,
     "metadata": {},
     "output_type": "execute_result"
    }
   ],
   "source": [
    "mat_array"
   ]
  },
  {
   "cell_type": "code",
   "execution_count": 105,
   "id": "06141ccd-e9ea-418e-a3a5-fe3ed322a39f",
   "metadata": {
    "tags": []
   },
   "outputs": [
    {
     "data": {
      "text/plain": [
       "(3, 5)"
      ]
     },
     "execution_count": 105,
     "metadata": {},
     "output_type": "execute_result"
    }
   ],
   "source": [
    "mat_array.shape"
   ]
  },
  {
   "cell_type": "code",
   "execution_count": 107,
   "id": "49993427-bee4-4737-bc8e-daf85c9b65e5",
   "metadata": {
    "tags": []
   },
   "outputs": [
    {
     "data": {
      "text/plain": [
       "array([0, 1, 2, 3, 4])"
      ]
     },
     "execution_count": 107,
     "metadata": {},
     "output_type": "execute_result"
    }
   ],
   "source": [
    "mat_array[0,:]"
   ]
  },
  {
   "cell_type": "code",
   "execution_count": 109,
   "id": "3676c85e-32bc-4472-9772-0f2a2d0bacd0",
   "metadata": {
    "tags": []
   },
   "outputs": [
    {
     "data": {
      "text/plain": [
       "array([5, 6, 7, 8, 9])"
      ]
     },
     "execution_count": 109,
     "metadata": {},
     "output_type": "execute_result"
    }
   ],
   "source": [
    "mat_array[-2,:]"
   ]
  },
  {
   "cell_type": "code",
   "execution_count": 111,
   "id": "efd9376d-ad8d-42e1-b1df-4ed638eea177",
   "metadata": {
    "tags": []
   },
   "outputs": [
    {
     "data": {
      "text/plain": [
       "7"
      ]
     },
     "execution_count": 111,
     "metadata": {},
     "output_type": "execute_result"
    }
   ],
   "source": [
    "mat_array[1,2]"
   ]
  },
  {
   "cell_type": "markdown",
   "id": "868b5d0d-60c0-4da2-abc4-9b07ea6f5c36",
   "metadata": {},
   "source": [
    ".sin() .cos() .factorial()"
   ]
  },
  {
   "cell_type": "code",
   "execution_count": 114,
   "id": "871b0738-7524-475b-b2be-3a4e4693cc78",
   "metadata": {
    "tags": []
   },
   "outputs": [
    {
     "name": "stdout",
     "output_type": "stream",
     "text": [
      "SIN di 90 1.0 COS di 90 6.123233995736766e-17 SIN di 180 1.2246467991473532e-16 COS di 180 -1.0\n"
     ]
    }
   ],
   "source": [
    "print(\"SIN di 90\", mt.sin(mt.pi/2), \"COS di 90\", mt.cos(mt.pi/2), \"SIN di 180\", mt.sin(mt.pi), \"COS di 180\", mt.cos(mt.pi))"
   ]
  },
  {
   "cell_type": "code",
   "execution_count": 122,
   "id": "4650375d-ece9-4b4d-aa28-484fc375f8fe",
   "metadata": {
    "tags": []
   },
   "outputs": [
    {
     "name": "stdout",
     "output_type": "stream",
     "text": [
      "362880\n"
     ]
    }
   ],
   "source": [
    "print(mt.factorial(9))"
   ]
  },
  {
   "cell_type": "code",
   "execution_count": 124,
   "id": "01282519-fa06-4a1f-8296-4526b6a4d224",
   "metadata": {
    "tags": []
   },
   "outputs": [
    {
     "data": {
      "text/plain": [
       "180.0"
      ]
     },
     "execution_count": 124,
     "metadata": {},
     "output_type": "execute_result"
    }
   ],
   "source": [
    "mt.degrees(mt.pi)"
   ]
  },
  {
   "cell_type": "code",
   "execution_count": 126,
   "id": "f7d42a67-91f3-49a3-a28b-17ec9a379957",
   "metadata": {
    "tags": []
   },
   "outputs": [],
   "source": [
    "lst = [2000, 5500, 7200, 4320, 1280, 1900, 2500, 3900, 6410, 8150, 7100, 5350]"
   ]
  },
  {
   "cell_type": "code",
   "execution_count": 128,
   "id": "b8f06125-7daf-4a00-9371-41c32bf6f3bf",
   "metadata": {
    "tags": []
   },
   "outputs": [
    {
     "data": {
      "text/plain": [
       "array([2000, 5500, 7200, 4320, 1280, 1900, 2500, 3900, 6410, 8150, 7100,\n",
       "       5350])"
      ]
     },
     "execution_count": 128,
     "metadata": {},
     "output_type": "execute_result"
    }
   ],
   "source": [
    "lst = np.array(lst)\n",
    "lst"
   ]
  },
  {
   "cell_type": "markdown",
   "id": "e13d42ed-6a9e-4902-8b12-eb5ddbbc9db3",
   "metadata": {},
   "source": [
    "qual è stata la vendita massima mensile? e quella minima? e quella media?"
   ]
  },
  {
   "cell_type": "code",
   "execution_count": 131,
   "id": "c5615547-38e0-400f-a04e-b1ab2df2190a",
   "metadata": {
    "tags": []
   },
   "outputs": [
    {
     "name": "stdout",
     "output_type": "stream",
     "text": [
      "8150\n",
      "1280\n"
     ]
    }
   ],
   "source": [
    "print(lst.max())\n",
    "print(lst.min())"
   ]
  },
  {
   "cell_type": "markdown",
   "id": "2d0c8e0b-96c3-4b74-9ff3-4626ac1fc552",
   "metadata": {},
   "source": [
    "quali sono le vendite mensili maggiori di 4999 oggetti? E quante ne sono?"
   ]
  },
  {
   "cell_type": "code",
   "execution_count": 134,
   "id": "62fae402-d59b-426c-9b22-666cf8dab802",
   "metadata": {
    "tags": []
   },
   "outputs": [
    {
     "name": "stdout",
     "output_type": "stream",
     "text": [
      "[5500 7200 6410 8150 7100 5350]\n",
      "6\n"
     ]
    }
   ],
   "source": [
    "filter_4999 = lst[lst > 4999]\n",
    "print(filter_4999)\n",
    "print(len(filter_4999))"
   ]
  },
  {
   "cell_type": "markdown",
   "id": "31b911c6-cbe7-44d9-8e41-51a617cbec87",
   "metadata": {},
   "source": [
    "quali sono le vendite minori di 3000 oggetti?"
   ]
  },
  {
   "cell_type": "code",
   "execution_count": 137,
   "id": "12dd6e1d-dd15-4b7a-8339-796835140aa3",
   "metadata": {
    "tags": []
   },
   "outputs": [
    {
     "name": "stdout",
     "output_type": "stream",
     "text": [
      "[2000 1280 1900 2500]\n",
      "4\n"
     ]
    }
   ],
   "source": [
    "filter_3000 = lst[lst < 3000]\n",
    "print(filter_3000)\n",
    "print(len(filter_3000))"
   ]
  },
  {
   "cell_type": "markdown",
   "id": "ee9b9191-693c-485e-9a0d-afeb95c69ffc",
   "metadata": {},
   "source": [
    "in media quanti oggetti sono stati venduti al mese? e poi arrotondiamo"
   ]
  },
  {
   "cell_type": "code",
   "execution_count": 140,
   "id": "cfd16bc1-fe93-4fb0-80ce-0550caf19bb4",
   "metadata": {
    "tags": []
   },
   "outputs": [
    {
     "name": "stdout",
     "output_type": "stream",
     "text": [
      "4634.17\n"
     ]
    }
   ],
   "source": [
    "print(round(lst.mean(), 2))"
   ]
  },
  {
   "cell_type": "code",
   "execution_count": 142,
   "id": "3af858ab-c3c2-4bb4-bed7-cd4d8a33047c",
   "metadata": {
    "tags": []
   },
   "outputs": [],
   "source": [
    "#dizionario\n",
    "fatturati_dict = {1997: 12_000, 1998: 15_000, 1999: 20_000, 2000: 23_000, 2001: 25_000, 2002: 17_000, 2003: 14_000, 2004: 21_000}\n",
    "#serie pandas, a differenza dei dizionari con le serie possiamo fare operazioni\n",
    "fatturati_series = pd.Series([12_000, 15_000, 20_000, 23_000, 25_000, 17_000, 14_000, 21_000], index=range(1997, 2005))"
   ]
  },
  {
   "cell_type": "code",
   "execution_count": 144,
   "id": "add2b15a-ebbe-4783-8b5c-d41946da5639",
   "metadata": {
    "tags": []
   },
   "outputs": [
    {
     "data": {
      "text/plain": [
       "12000"
      ]
     },
     "execution_count": 144,
     "metadata": {},
     "output_type": "execute_result"
    }
   ],
   "source": [
    "fatturati_dict[1997] "
   ]
  },
  {
   "cell_type": "code",
   "execution_count": 146,
   "id": "142581e5-c31a-4cc5-8373-a07a099f68ff",
   "metadata": {
    "tags": []
   },
   "outputs": [
    {
     "data": {
      "text/plain": [
       "12000"
      ]
     },
     "execution_count": 146,
     "metadata": {},
     "output_type": "execute_result"
    }
   ],
   "source": [
    "fatturati_series[1997]"
   ]
  },
  {
   "cell_type": "code",
   "execution_count": 148,
   "id": "8d626776-6fa0-4adf-9b24-0495a2d83213",
   "metadata": {
    "tags": []
   },
   "outputs": [],
   "source": [
    "stipendi = np.array( [100, 200, 300, 400, 500,  600, 700, 800, 900, 1000] )"
   ]
  },
  {
   "cell_type": "markdown",
   "id": "e57b94fd-482e-42eb-b8a8-296c65790072",
   "metadata": {},
   "source": [
    "L'azienda ci chiede di raddoppiare tutti gli stipendi; facciamolo in due modi: "
   ]
  },
  {
   "cell_type": "code",
   "execution_count": 151,
   "id": "d685bcf1-5cb6-4724-8a65-ea46cdd736cf",
   "metadata": {
    "tags": []
   },
   "outputs": [
    {
     "name": "stdout",
     "output_type": "stream",
     "text": [
      "[ 100  200  300  400  500  600  700  800  900 1000]\n"
     ]
    }
   ],
   "source": [
    "print(stipendi)"
   ]
  },
  {
   "cell_type": "code",
   "execution_count": 153,
   "id": "a8769f88-e8ee-4d03-93ee-980d19d93191",
   "metadata": {},
   "outputs": [
    {
     "name": "stdout",
     "output_type": "stream",
     "text": [
      "lista stipendi raddoppiati for:  [200, 400, 600, 800, 1000, 1200, 1400, 1600, 1800, 2000]\n",
      "lista stipendi raddoppiati comp:  [200, 400, 600, 800, 1000, 1200, 1400, 1600, 1800, 2000]\n",
      "lista stipendi raddoppiati mask:  [ 200  400  600  800 1000 1200 1400 1600 1800 2000]\n"
     ]
    }
   ],
   "source": [
    "lista_stipendi_raddoppiati = []\n",
    "lista_stipendi_raddoppiati_com = []\n",
    "#ciclo for\n",
    "for stipendio in stipendi:\n",
    "    lista_stipendi_raddoppiati.append(stipendio * 2)\n",
    "print(\"lista stipendi raddoppiati for: \", lista_stipendi_raddoppiati)\n",
    "#list comprehension\n",
    "lista_stipendi_raddoppiati_com = [stipendio * 2 for stipendio in stipendi]\n",
    "print(\"lista stipendi raddoppiati comp: \", lista_stipendi_raddoppiati_com)\n",
    "#masking\n",
    "lista_stipendi_raddoppiati_numpy = stipendi*2\n",
    "print(\"lista stipendi raddoppiati mask: \", lista_stipendi_raddoppiati_numpy)"
   ]
  },
  {
   "cell_type": "code",
   "execution_count": 156,
   "id": "f0644f4a-30e3-4e18-8420-4335c84c73eb",
   "metadata": {
    "tags": []
   },
   "outputs": [
    {
     "name": "stdout",
     "output_type": "stream",
     "text": [
      "100\n",
      "101\n",
      "102\n",
      "103\n",
      "104\n",
      "105\n",
      "106\n",
      "107\n",
      "108\n",
      "109\n"
     ]
    }
   ],
   "source": [
    "#ciclo for in range\n",
    "for x in range(100, 110):\n",
    "    print(x)"
   ]
  },
  {
   "cell_type": "code",
   "execution_count": 159,
   "id": "6cd96eef-ae75-4037-8eef-6b2c1798f0b7",
   "metadata": {
    "tags": []
   },
   "outputs": [
    {
     "name": "stdout",
     "output_type": "stream",
     "text": [
      "0\n",
      "10\n",
      "20\n",
      "30\n",
      "40\n",
      "50\n",
      "60\n",
      "70\n",
      "80\n",
      "90\n"
     ]
    }
   ],
   "source": [
    "for x in range(0, 100, 10):\n",
    "    print(x)"
   ]
  },
  {
   "cell_type": "code",
   "execution_count": 162,
   "id": "7c8e67b3-4875-4104-985b-eee6787e4bf4",
   "metadata": {
    "tags": []
   },
   "outputs": [
    {
     "name": "stdout",
     "output_type": "stream",
     "text": [
      "0\n",
      "1\n",
      "2\n",
      "3\n",
      "4\n",
      "5\n",
      "6\n",
      "7\n",
      "8\n",
      "9\n",
      "10\n",
      "11\n"
     ]
    }
   ],
   "source": [
    "for x in range(0, len(lst)):\n",
    "    print(x)"
   ]
  },
  {
   "cell_type": "code",
   "execution_count": 164,
   "id": "fbbf6c6b-c6db-4a3f-b598-1f20200e6bf5",
   "metadata": {
    "tags": []
   },
   "outputs": [
    {
     "name": "stdout",
     "output_type": "stream",
     "text": [
      "enciclopedia\n",
      "atlante\n",
      "dizionario\n",
      "0 enciclopedia\n",
      "1 atlante\n",
      "2 dizionario\n"
     ]
    }
   ],
   "source": [
    "libri = [\"enciclopedia\", \"atlante\", \"dizionario\"] \n",
    "for libro in libri: \n",
    "    print(libro) \n",
    "for contatore, libro in enumerate(libri): \n",
    "    print(contatore, libro)"
   ]
  },
  {
   "cell_type": "code",
   "execution_count": 170,
   "id": "281cf92c-b733-4de9-a5fe-0c3424f4c753",
   "metadata": {
    "tags": []
   },
   "outputs": [
    {
     "name": "stdout",
     "output_type": "stream",
     "text": [
      "[('Anna', 28), ('Bruno', 34), ('Carla', 29)]\n",
      "Anna ha 28 anni.\n",
      "Bruno ha 34 anni.\n",
      "Carla ha 29 anni.\n"
     ]
    }
   ],
   "source": [
    "nomi = ['Anna', 'Bruno', 'Carla']\n",
    "età = [28, 34, 29]\n",
    "\n",
    "persone = zip(nomi, età)\n",
    "# Converti l'iteratore in una lista di tuple\n",
    "lista_persone = list(persone)\n",
    "print(lista_persone)\n",
    "\n",
    "for nome, età in zip(nomi, età):\n",
    "    print(f\"{nome} ha {età} anni.\")"
   ]
  },
  {
   "cell_type": "code",
   "execution_count": null,
   "id": "35b852bb-8a8f-4e24-88a7-57108118ad1b",
   "metadata": {},
   "outputs": [],
   "source": []
  }
 ],
 "metadata": {
  "kernelspec": {
   "display_name": "Python 3 (ipykernel)",
   "language": "python",
   "name": "python3"
  },
  "language_info": {
   "codemirror_mode": {
    "name": "ipython",
    "version": 3
   },
   "file_extension": ".py",
   "mimetype": "text/x-python",
   "name": "python",
   "nbconvert_exporter": "python",
   "pygments_lexer": "ipython3",
   "version": "3.11.7"
  }
 },
 "nbformat": 4,
 "nbformat_minor": 5
}
