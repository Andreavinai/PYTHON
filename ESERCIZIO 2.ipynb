{
 "cells": [
  {
   "cell_type": "markdown",
   "id": "eb18cd34-83f3-4f9d-8971-20fd8b0e12b0",
   "metadata": {},
   "source": [
    "Stampare ogni carattere della stringa, uno su ogni riga, utilizzando un costrutto while."
   ]
  },
  {
   "cell_type": "code",
   "execution_count": 1,
   "id": "82c74f8d-0638-4e6a-8946-f1afbe2c3133",
   "metadata": {
    "tags": []
   },
   "outputs": [
    {
     "name": "stdout",
     "output_type": "stream",
     "text": [
      "E\n",
      "p\n",
      "i\n",
      "c\n",
      "o\n",
      "d\n",
      "e\n"
     ]
    }
   ],
   "source": [
    "nome_scuola = \"Epicode\"\n",
    "contatore = 0\n",
    "while contatore <= len(nome_scuola) -1 :\n",
    "    print(nome_scuola[contatore])\n",
    "    contatore += 1"
   ]
  },
  {
   "cell_type": "markdown",
   "id": "36932b9d-f599-4a2d-874e-003fff8eee5e",
   "metadata": {},
   "source": [
    "Stampare a video tutti i numeri da 0 a 20 utilizzando il costrutto while."
   ]
  },
  {
   "cell_type": "code",
   "execution_count": 5,
   "id": "0dfccc71-3ea5-42db-9959-27ea189c6d71",
   "metadata": {
    "tags": []
   },
   "outputs": [
    {
     "name": "stdout",
     "output_type": "stream",
     "text": [
      "[0, 1, 2, 3, 4, 5, 6, 7, 8, 9, 10, 11, 12, 13, 14, 15, 16, 17, 18, 19, 20]\n"
     ]
    }
   ],
   "source": [
    "numero = 0\n",
    "lista_numeri = []\n",
    "while numero <= 20:\n",
    "    lista_numeri.append(numero)\n",
    "    numero = numero + 1\n",
    "print(lista_numeri)"
   ]
  },
  {
   "cell_type": "markdown",
   "id": "14292963-e935-4128-b1e4-12ae63ae5144",
   "metadata": {},
   "source": [
    "Calcolare e stampare tutte le prime 10 potenze di 2 (e.g., 2⁰, 2¹, 2², …) utilizzando un ciclo while."
   ]
  },
  {
   "cell_type": "code",
   "execution_count": 13,
   "id": "7fb174cb-e178-4ab7-8622-06c043f3dab0",
   "metadata": {
    "tags": []
   },
   "outputs": [
    {
     "name": "stdout",
     "output_type": "stream",
     "text": [
      "1\n",
      "2\n",
      "4\n",
      "8\n",
      "16\n",
      "32\n",
      "64\n",
      "128\n",
      "256\n",
      "512\n",
      "1024\n"
     ]
    }
   ],
   "source": [
    "numero = 2\n",
    "potenza = 0\n",
    "while potenza <= 10:\n",
    "    print(numero**potenza)\n",
    "    potenza+=1"
   ]
  },
  {
   "cell_type": "markdown",
   "id": "6ae2492d-39ba-431b-bd6a-da12da9ab5ef",
   "metadata": {},
   "source": [
    "Calcolare e stampare tutte le prime N potenze di 2 utilizzando un ciclo for, domandando all'utente di inserire N."
   ]
  },
  {
   "cell_type": "code",
   "execution_count": 25,
   "id": "a57ae788-7c51-46d8-98e2-f1c898134526",
   "metadata": {
    "tags": []
   },
   "outputs": [
    {
     "name": "stdin",
     "output_type": "stream",
     "text": [
      "inserisci 3 esponenti separati dalla , 2,4,6\n"
     ]
    },
    {
     "name": "stdout",
     "output_type": "stream",
     "text": [
      "4\n",
      "16\n",
      "64\n"
     ]
    }
   ],
   "source": [
    "numero = 2\n",
    "stringa = input(\"inserisci 3 esponenti separati dalla ,\")\n",
    "lista = stringa.split(\",\")\n",
    "# while potenza <= N:\n",
    "#     print(numero**potenza)\n",
    "#     potenza += 1\n",
    "for i in lista:\n",
    "    print(numero**int(i))"
   ]
  },
  {
   "cell_type": "markdown",
   "id": "962ba632-4924-407d-b230-3cf2ba61f0eb",
   "metadata": {},
   "source": [
    "Calcolare e stampare tutte le potenze di 2 minori di 25000."
   ]
  },
  {
   "cell_type": "code",
   "execution_count": 4,
   "id": "5f5c2939-5760-4443-8816-081967f9741a",
   "metadata": {
    "tags": []
   },
   "outputs": [
    {
     "name": "stdout",
     "output_type": "stream",
     "text": [
      "1\n",
      "2\n",
      "4\n",
      "8\n",
      "16\n",
      "32\n",
      "64\n",
      "128\n",
      "256\n",
      "512\n",
      "1024\n",
      "2048\n",
      "4096\n",
      "8192\n",
      "16384\n"
     ]
    }
   ],
   "source": [
    "limite = 25000\n",
    "i = 0\n",
    "risultato_potenza = 0\n",
    "\n",
    "while risultato_potenza < limite:\n",
    "    risultato_potenza = 2**i\n",
    "    i += 1\n",
    "    if risultato_potenza <= limite:\n",
    "        print(risultato_potenza)"
   ]
  },
  {
   "cell_type": "markdown",
   "id": "e92a3a3a-d1e2-484e-b661-16c788df7b05",
   "metadata": {},
   "source": [
    "Aggiungere i dati mancanti alla lista corsi, sapendo che Emma segue Data Analyst, Faith segue Backend, Grace segue Frontend, Henry segue Cybersecurity."
   ]
  },
  {
   "cell_type": "code",
   "execution_count": 8,
   "id": "a4c1db81-c65b-4d86-ad77-01e02133504f",
   "metadata": {},
   "outputs": [],
   "source": [
    "studenti = [\"Alex\", \"Bob\", \"Cindy\", \"Dan\", \"Emma\", \"Faith\", \"Grace\", \"Henry\"]\n",
    "corsi = [\"Cybersecurity\", \"Data Analyst\", \"Backend\", \"Frontend\", \"Data Analyst\", \"Backend\"]\n",
    "\n",
    "corsi.append(\"Frontend\")\n",
    "corsi.append(\"Cybersecurity\")"
   ]
  },
  {
   "cell_type": "markdown",
   "id": "1dd15cef-8511-4e4c-963d-acd57c295a8d",
   "metadata": {},
   "source": [
    "Scriviamo un programma che chiede in input all'utente una stringa e visualizza i primi 3 caratteri, seguiti da 3 punti di sospensione e quindi gli ultimi 3 caratteri, similmente all'esercizio della lezione scorsa. Stavolta facciamo attenzione a tutti i casi particolari, ovvero implementare soluzioni ad hoc per stringhe di lunghezza inferiore a 6 caratteri."
   ]
  },
  {
   "cell_type": "code",
   "execution_count": 21,
   "id": "a3d14779-58fe-4665-8589-e839ddeeedcb",
   "metadata": {
    "tags": []
   },
   "outputs": [
    {
     "name": "stdin",
     "output_type": "stream",
     "text": [
      "inserisci una stringa:  casa\n"
     ]
    },
    {
     "name": "stdout",
     "output_type": "stream",
     "text": [
      "ca...sa\n"
     ]
    }
   ],
   "source": [
    "stringa = input(\"inserisci una stringa: \")\n",
    "\n",
    "if len(stringa) >= 6:\n",
    "    output = stringa[:3] + \"...\" + stringa[-3:]\n",
    "    print(output)\n",
    "else:\n",
    "    output = stringa[:int(len(stringa)/2)] + \"...\" + stringa[int(-len(stringa)/2):]\n",
    "    print(output)"
   ]
  },
  {
   "cell_type": "markdown",
   "id": "04497791-5054-4f6b-8409-61a2bc4bafcb",
   "metadata": {},
   "source": [
    "Memorizza e stampa tutti i fattori di un numero dato in input."
   ]
  },
  {
   "cell_type": "code",
   "execution_count": 30,
   "id": "d0226734-2a3b-432c-9ceb-129af5cb0a1d",
   "metadata": {
    "tags": []
   },
   "outputs": [
    {
     "name": "stdin",
     "output_type": "stream",
     "text": [
      "inserisci un numero:  150\n"
     ]
    },
    {
     "name": "stdout",
     "output_type": "stream",
     "text": [
      "[2, 3, 5, 5]\n"
     ]
    }
   ],
   "source": [
    "num = int(input(\"inserisci un numero: \"))\n",
    "divisore = 2\n",
    "fattori = []\n",
    "while num > 1:\n",
    "    if num % divisore == 0:\n",
    "        fattori.append(divisore)\n",
    "        num //= divisore\n",
    "    else:\n",
    "        divisore += 1\n",
    "print(fattori)\n",
    "    "
   ]
  },
  {
   "cell_type": "markdown",
   "id": "d9c691b1-873e-4d3b-b3a4-bd3f350a0ef7",
   "metadata": {},
   "source": [
    "Abbiamo la stringa: nome_scuola = \"Epicode\". Stampare ogni carattere della stringa, uno su ogni riga, utilizzando un costrutto for."
   ]
  },
  {
   "cell_type": "markdown",
   "id": "ab1353bd-f661-423d-ba16-434b9ea0a433",
   "metadata": {},
   "source": [
    "Scrivere un programma che, data una lista di numeri, fornisca in output il minimo e il massimo (possiamo usare o meno le funzioni built-in min() e max())."
   ]
  },
  {
   "cell_type": "code",
   "execution_count": 34,
   "id": "78ff7b33-5d59-4422-8c75-741c1c0e7535",
   "metadata": {
    "tags": []
   },
   "outputs": [
    {
     "name": "stdout",
     "output_type": "stream",
     "text": [
      "[417, 213, 465, 132, 604, 994, 694]\n",
      "132 994\n"
     ]
    }
   ],
   "source": [
    "from random import randint\n",
    "\n",
    "lista_numeri = [randint(1,1100) for x in range(randint(6,12))]\n",
    "print(lista_numeri)\n",
    "\n",
    "max = 0\n",
    "for num in lista_numeri:\n",
    "    if num > max:\n",
    "        max = num\n",
    "min = max\n",
    "for n in lista_numeri:\n",
    "    if n < min:\n",
    "        min = n\n",
    "print(min, max)"
   ]
  },
  {
   "cell_type": "markdown",
   "id": "e92d72ab-9516-47e0-ab3b-b0d85c77acdd",
   "metadata": {},
   "source": [
    "Abbiamo una lista di parole: parole = [\"Albergo\", \"Sedia\", \"Borgo\", \"Petalo\", \"Eremo\", \"Belvedere\", \"Semestre\", \"Esteta\", \"Sosta\", \"Orpello\", \"Abete\", \"Orologio\", \"Cesta\", \"Ermellino\"] stampiamo, per ogni parola, quante volte appare la lettera \"e\"; facciamo attenzione al fatto che appare sia maiuscola che minuscola."
   ]
  },
  {
   "cell_type": "code",
   "execution_count": 43,
   "id": "1ec396dd-385b-4d10-858a-acd8dc0c6e0c",
   "metadata": {
    "tags": []
   },
   "outputs": [
    {
     "name": "stdout",
     "output_type": "stream",
     "text": [
      "Albergo 1\n",
      "Sedia 1\n",
      "Petalo 1\n",
      "Eremo 2\n",
      "Belvedere 4\n",
      "Semestre 3\n",
      "Esteta 2\n",
      "Orpello 1\n",
      "Abete 2\n",
      "Cesta 1\n",
      "Ermellino 2\n"
     ]
    }
   ],
   "source": [
    "parole = [\"Albergo\", \"Sedia\", \"Borgo\", \"Petalo\", \"Eremo\", \"Belvedere\", \"Semestre\", \"Esteta\", \"Sosta\", \"Orpello\", \"Abete\", \"Orologio\", \"Cesta\", \"Ermellino\"]\n",
    "\n",
    "for parola in parole:\n",
    "    if \"e\" in parola.lower():\n",
    "        print(parola, parola.lower().count(\"e\"))"
   ]
  },
  {
   "cell_type": "code",
   "execution_count": null,
   "id": "ea6ff53b-d9f2-49d0-a5b9-79b59fe389b6",
   "metadata": {},
   "outputs": [],
   "source": []
  }
 ],
 "metadata": {
  "kernelspec": {
   "display_name": "Python 3 (ipykernel)",
   "language": "python",
   "name": "python3"
  },
  "language_info": {
   "codemirror_mode": {
    "name": "ipython",
    "version": 3
   },
   "file_extension": ".py",
   "mimetype": "text/x-python",
   "name": "python",
   "nbconvert_exporter": "python",
   "pygments_lexer": "ipython3",
   "version": "3.11.7"
  }
 },
 "nbformat": 4,
 "nbformat_minor": 5
}
